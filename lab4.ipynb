{
  "nbformat": 4,
  "nbformat_minor": 0,
  "metadata": {
    "colab": {
      "name": "Untitled38.ipynb",
      "provenance": []
    },
    "kernelspec": {
      "name": "python3",
      "display_name": "Python 3"
    }
  },
  "cells": [
    {
      "cell_type": "code",
      "metadata": {
        "id": "TTTsPl3nOU6n",
        "colab_type": "code",
        "colab": {
          "base_uri": "https://localhost:8080/",
          "height": 1000
        },
        "outputId": "3a3886cf-1783-45fc-f03f-06f58eec154a"
      },
      "source": [
        "import os\n",
        "help(os.path)"
      ],
      "execution_count": 1,
      "outputs": [
        {
          "output_type": "stream",
          "text": [
            "Help on module posixpath:\n",
            "\n",
            "NAME\n",
            "    posixpath - Common operations on Posix pathnames.\n",
            "\n",
            "MODULE REFERENCE\n",
            "    https://docs.python.org/3.6/library/posixpath\n",
            "    \n",
            "    The following documentation is automatically generated from the Python\n",
            "    source files.  It may be incomplete, incorrect or include features that\n",
            "    are considered implementation detail and may vary between Python\n",
            "    implementations.  When in doubt, consult the module reference at the\n",
            "    location listed above.\n",
            "\n",
            "DESCRIPTION\n",
            "    Instead of importing this module directly, import os and refer to\n",
            "    this module as os.path.  The \"os.path\" name is an alias for this\n",
            "    module on Posix systems; on other systems (e.g. Mac, Windows),\n",
            "    os.path provides the same operations in a manner specific to that\n",
            "    platform, and is an alias to another module (e.g. macpath, ntpath).\n",
            "    \n",
            "    Some of this can actually be useful on non-Posix systems too, e.g.\n",
            "    for manipulation of the pathname component of URLs.\n",
            "\n",
            "FUNCTIONS\n",
            "    abspath(path)\n",
            "        Return an absolute path.\n",
            "    \n",
            "    basename(p)\n",
            "        Returns the final component of a pathname\n",
            "    \n",
            "    commonpath(paths)\n",
            "        Given a sequence of path names, returns the longest common sub-path.\n",
            "    \n",
            "    commonprefix(m)\n",
            "        Given a list of pathnames, returns the longest common leading component\n",
            "    \n",
            "    dirname(p)\n",
            "        Returns the directory component of a pathname\n",
            "    \n",
            "    exists(path)\n",
            "        Test whether a path exists.  Returns False for broken symbolic links\n",
            "    \n",
            "    expanduser(path)\n",
            "        Expand ~ and ~user constructions.  If user or $HOME is unknown,\n",
            "        do nothing.\n",
            "    \n",
            "    expandvars(path)\n",
            "        Expand shell variables of form $var and ${var}.  Unknown variables\n",
            "        are left unchanged.\n",
            "    \n",
            "    getatime(filename)\n",
            "        Return the last access time of a file, reported by os.stat().\n",
            "    \n",
            "    getctime(filename)\n",
            "        Return the metadata change time of a file, reported by os.stat().\n",
            "    \n",
            "    getmtime(filename)\n",
            "        Return the last modification time of a file, reported by os.stat().\n",
            "    \n",
            "    getsize(filename)\n",
            "        Return the size of a file, reported by os.stat().\n",
            "    \n",
            "    isabs(s)\n",
            "        Test whether a path is absolute\n",
            "    \n",
            "    isdir(s)\n",
            "        Return true if the pathname refers to an existing directory.\n",
            "    \n",
            "    isfile(path)\n",
            "        Test whether a path is a regular file\n",
            "    \n",
            "    islink(path)\n",
            "        Test whether a path is a symbolic link\n",
            "    \n",
            "    ismount(path)\n",
            "        Test whether a path is a mount point\n",
            "    \n",
            "    join(a, *p)\n",
            "        Join two or more pathname components, inserting '/' as needed.\n",
            "        If any component is an absolute path, all previous path components\n",
            "        will be discarded.  An empty last part will result in a path that\n",
            "        ends with a separator.\n",
            "    \n",
            "    lexists(path)\n",
            "        Test whether a path exists.  Returns True for broken symbolic links\n",
            "    \n",
            "    normcase(s)\n",
            "        Normalize case of pathname.  Has no effect under Posix\n",
            "    \n",
            "    normpath(path)\n",
            "        Normalize path, eliminating double slashes, etc.\n",
            "    \n",
            "    realpath(filename)\n",
            "        Return the canonical path of the specified filename, eliminating any\n",
            "        symbolic links encountered in the path.\n",
            "    \n",
            "    relpath(path, start=None)\n",
            "        Return a relative version of a path\n",
            "    \n",
            "    samefile(f1, f2)\n",
            "        Test whether two pathnames reference the same actual file\n",
            "    \n",
            "    sameopenfile(fp1, fp2)\n",
            "        Test whether two open file objects reference the same file\n",
            "    \n",
            "    samestat(s1, s2)\n",
            "        Test whether two stat buffers reference the same file\n",
            "    \n",
            "    split(p)\n",
            "        Split a pathname.  Returns tuple \"(head, tail)\" where \"tail\" is\n",
            "        everything after the final slash.  Either part may be empty.\n",
            "    \n",
            "    splitdrive(p)\n",
            "        Split a pathname into drive and path. On Posix, drive is always\n",
            "        empty.\n",
            "    \n",
            "    splitext(p)\n",
            "        Split the extension from a pathname.\n",
            "        \n",
            "        Extension is everything from the last dot to the end, ignoring\n",
            "        leading dots.  Returns \"(root, ext)\"; ext may be empty.\n",
            "\n",
            "DATA\n",
            "    __all__ = ['normcase', 'isabs', 'join', 'splitdrive', 'split', 'splite...\n",
            "    altsep = None\n",
            "    curdir = '.'\n",
            "    defpath = ':/bin:/usr/bin'\n",
            "    devnull = '/dev/null'\n",
            "    extsep = '.'\n",
            "    pardir = '..'\n",
            "    pathsep = ':'\n",
            "    sep = '/'\n",
            "    supports_unicode_filenames = False\n",
            "\n",
            "FILE\n",
            "    /usr/lib/python3.6/posixpath.py\n",
            "\n",
            "\n"
          ],
          "name": "stdout"
        }
      ]
    },
    {
      "cell_type": "code",
      "metadata": {
        "id": "kJfMqtzaO95p",
        "colab_type": "code",
        "colab": {
          "base_uri": "https://localhost:8080/",
          "height": 126
        },
        "outputId": "a51f86a5-812a-4662-9511-28d464e49e5d"
      },
      "source": [
        "# question 1:\n",
        "import string\n",
        "fout = open('sivay.txt', 'r', encoding = 'UTF-8')\n",
        "words = open('book.txt','r')\n",
        "\n",
        "\n",
        "ch = []\n",
        "sivay = {}\n",
        "book = {}\n",
        "book1 = words\n",
        "\n",
        "for i in fout: \n",
        "  new_book = i.split(\" \")  \n",
        "  for char in new_book:\n",
        "    hi = char.lower()\n",
        "    hi_1 = new.strip(string.whitespace + string.punctuation)\n",
        "    hi2 = new1.lower()\n",
        "    sivay = h\n",
        "    \n",
        "    for char in words:\n",
        "      if hi2= char:\n",
        "        ch= char\n",
        "      else:\n",
        "        pass \n",
        "\n",
        "\n",
        "print(ch)  \n",
        "\n"
      ],
      "execution_count": 3,
      "outputs": [
        {
          "output_type": "error",
          "ename": "SyntaxError",
          "evalue": "ignored",
          "traceback": [
            "\u001b[0;36m  File \u001b[0;32m\"<ipython-input-3-9f8f57f68a20>\"\u001b[0;36m, line \u001b[0;32m21\u001b[0m\n\u001b[0;31m    if hi2= char:\u001b[0m\n\u001b[0m          ^\u001b[0m\n\u001b[0;31mSyntaxError\u001b[0m\u001b[0;31m:\u001b[0m invalid syntax\n"
          ]
        }
      ]
    },
    {
      "cell_type": "markdown",
      "metadata": {
        "id": "l02O07k6QTkR",
        "colab_type": "text"
      },
      "source": [
        "question3"
      ]
    },
    {
      "cell_type": "code",
      "metadata": {
        "id": "iZrVDeRwQVkB",
        "colab_type": "code",
        "colab": {
          "base_uri": "https://localhost:8080/",
          "height": 240
        },
        "outputId": "2a7a4fe9-03bb-4fbb-a7af-bd888480889b"
      },
      "source": [
        "import string\n",
        "\n",
        "fout = open('sivay.txt', 'r', encoding = 'UTF-8')\n",
        "print(fout)\n",
        "\n",
        "for i in fout: \n",
        "  new = i.split(\" \")  \n",
        "  for char in new:\n",
        "    hii = char.lower()\n",
        "    hii1 = new.strip(string.whitespace + string.punctuation)\n",
        "    hi2 = new1.lower()\n",
        "  \n",
        "  print (hi2)"
      ],
      "execution_count": 5,
      "outputs": [
        {
          "output_type": "stream",
          "text": [
            "<_io.TextIOWrapper name='sivay.txt' mode='r' encoding='UTF-8'>\n"
          ],
          "name": "stdout"
        },
        {
          "output_type": "error",
          "ename": "AttributeError",
          "evalue": "ignored",
          "traceback": [
            "\u001b[0;31m---------------------------------------------------------------------------\u001b[0m",
            "\u001b[0;31mAttributeError\u001b[0m                            Traceback (most recent call last)",
            "\u001b[0;32m<ipython-input-5-708d791e0f96>\u001b[0m in \u001b[0;36m<module>\u001b[0;34m()\u001b[0m\n\u001b[1;32m      8\u001b[0m   \u001b[0;32mfor\u001b[0m \u001b[0mchar\u001b[0m \u001b[0;32min\u001b[0m \u001b[0mnew\u001b[0m\u001b[0;34m:\u001b[0m\u001b[0;34m\u001b[0m\u001b[0;34m\u001b[0m\u001b[0m\n\u001b[1;32m      9\u001b[0m     \u001b[0mhii\u001b[0m \u001b[0;34m=\u001b[0m \u001b[0mchar\u001b[0m\u001b[0;34m.\u001b[0m\u001b[0mlower\u001b[0m\u001b[0;34m(\u001b[0m\u001b[0;34m)\u001b[0m\u001b[0;34m\u001b[0m\u001b[0;34m\u001b[0m\u001b[0m\n\u001b[0;32m---> 10\u001b[0;31m     \u001b[0mhii1\u001b[0m \u001b[0;34m=\u001b[0m \u001b[0mnew\u001b[0m\u001b[0;34m.\u001b[0m\u001b[0mstrip\u001b[0m\u001b[0;34m(\u001b[0m\u001b[0mstring\u001b[0m\u001b[0;34m.\u001b[0m\u001b[0mwhitespace\u001b[0m \u001b[0;34m+\u001b[0m \u001b[0mstring\u001b[0m\u001b[0;34m.\u001b[0m\u001b[0mpunctuation\u001b[0m\u001b[0;34m)\u001b[0m\u001b[0;34m\u001b[0m\u001b[0;34m\u001b[0m\u001b[0m\n\u001b[0m\u001b[1;32m     11\u001b[0m     \u001b[0mhi2\u001b[0m \u001b[0;34m=\u001b[0m \u001b[0mnew1\u001b[0m\u001b[0;34m.\u001b[0m\u001b[0mlower\u001b[0m\u001b[0;34m(\u001b[0m\u001b[0;34m)\u001b[0m\u001b[0;34m\u001b[0m\u001b[0;34m\u001b[0m\u001b[0m\n\u001b[1;32m     12\u001b[0m \u001b[0;34m\u001b[0m\u001b[0m\n",
            "\u001b[0;31mAttributeError\u001b[0m: 'list' object has no attribute 'strip'"
          ]
        }
      ]
    },
    {
      "cell_type": "code",
      "metadata": {
        "id": "JIlcuYE4Rsqe",
        "colab_type": "code",
        "colab": {
          "base_uri": "https://localhost:8080/",
          "height": 240
        },
        "outputId": "92241afd-1eb6-4672-ca13-b122450582d4"
      },
      "source": [
        "import string\n",
        "\n",
        "fout = open('sivay.txt', 'r', encoding = 'UTF-8')\n",
        "print(fout)\n",
        "\n",
        "for i in fout: \n",
        "  new = i.split(\" \")  \n",
        "  for char in new:\n",
        "    hii = char.lower()\n",
        "    hii1 = new.strip(string.whitespace + string.punctuation)\n",
        "    hi2 = new1.lower()\n",
        "  \n",
        "  print (hi2)\n",
        "\n",
        "\n",
        "\n",
        "a = []\n",
        "a = hi2\n",
        "for char in a:\n",
        "  count = count + 1\n",
        "\n",
        "print(count)"
      ],
      "execution_count": 6,
      "outputs": [
        {
          "output_type": "stream",
          "text": [
            "<_io.TextIOWrapper name='sivay.txt' mode='r' encoding='UTF-8'>\n"
          ],
          "name": "stdout"
        },
        {
          "output_type": "error",
          "ename": "AttributeError",
          "evalue": "ignored",
          "traceback": [
            "\u001b[0;31m---------------------------------------------------------------------------\u001b[0m",
            "\u001b[0;31mAttributeError\u001b[0m                            Traceback (most recent call last)",
            "\u001b[0;32m<ipython-input-6-0d9969f1e6c8>\u001b[0m in \u001b[0;36m<module>\u001b[0;34m()\u001b[0m\n\u001b[1;32m      8\u001b[0m   \u001b[0;32mfor\u001b[0m \u001b[0mchar\u001b[0m \u001b[0;32min\u001b[0m \u001b[0mnew\u001b[0m\u001b[0;34m:\u001b[0m\u001b[0;34m\u001b[0m\u001b[0;34m\u001b[0m\u001b[0m\n\u001b[1;32m      9\u001b[0m     \u001b[0mhii\u001b[0m \u001b[0;34m=\u001b[0m \u001b[0mchar\u001b[0m\u001b[0;34m.\u001b[0m\u001b[0mlower\u001b[0m\u001b[0;34m(\u001b[0m\u001b[0;34m)\u001b[0m\u001b[0;34m\u001b[0m\u001b[0;34m\u001b[0m\u001b[0m\n\u001b[0;32m---> 10\u001b[0;31m     \u001b[0mhii1\u001b[0m \u001b[0;34m=\u001b[0m \u001b[0mnew\u001b[0m\u001b[0;34m.\u001b[0m\u001b[0mstrip\u001b[0m\u001b[0;34m(\u001b[0m\u001b[0mstring\u001b[0m\u001b[0;34m.\u001b[0m\u001b[0mwhitespace\u001b[0m \u001b[0;34m+\u001b[0m \u001b[0mstring\u001b[0m\u001b[0;34m.\u001b[0m\u001b[0mpunctuation\u001b[0m\u001b[0;34m)\u001b[0m\u001b[0;34m\u001b[0m\u001b[0;34m\u001b[0m\u001b[0m\n\u001b[0m\u001b[1;32m     11\u001b[0m     \u001b[0mhi2\u001b[0m \u001b[0;34m=\u001b[0m \u001b[0mnew1\u001b[0m\u001b[0;34m.\u001b[0m\u001b[0mlower\u001b[0m\u001b[0;34m(\u001b[0m\u001b[0;34m)\u001b[0m\u001b[0;34m\u001b[0m\u001b[0;34m\u001b[0m\u001b[0m\n\u001b[1;32m     12\u001b[0m \u001b[0;34m\u001b[0m\u001b[0m\n",
            "\u001b[0;31mAttributeError\u001b[0m: 'list' object has no attribute 'strip'"
          ]
        }
      ]
    },
    {
      "cell_type": "markdown",
      "metadata": {
        "id": "mogQAEJkOqQH",
        "colab_type": "text"
      },
      "source": [
        ""
      ]
    }
  ]
}